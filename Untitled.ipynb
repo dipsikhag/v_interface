{
 "cells": [
  {
   "cell_type": "code",
   "execution_count": 1,
   "metadata": {},
   "outputs": [],
   "source": [
    "import json\n",
    "import pandas as pd\n",
    "data = json.dumps({\n",
    "         \"INDEMNITY_PAID_TO_DATE_USD_AM\" : 150,\n",
    "         \"EXPENSE_PAID_TO_DATE_USD\" : 38388,\n",
    "         \"TYPE_NM\" : \"BI Bodily Injury and First Party Bodily Injury\", \n",
    "         \"FATAL_INJURY_IN\" : \"N\",\n",
    "         \"HAS_INJURY_DETAILS\" : \"false\",\n",
    "         \"CLAIM_TYPE\" : \"Auto Liability\",\n",
    "         \"LOSS_DT\" : \"2014-02-19\",\n",
    "         \"BUSINESS_CREATE_TS\" : \"2014-04-09 15:30:46\",\n",
    "         \"POLICY_EFF_DT\" : \"2013-04-01\",\n",
    "         \"POLICY_EXP_DT\" : \"2014-04-01\",\n",
    "         \"LOSS_PROVINCE\" : \"Florida\",\n",
    "         \"CLAIM_COUNT\" : 0,\n",
    "         \"ADDITIONAL_INJURY_DS\" : \"gk\"\n",
    "           })"
   ]
  },
  {
   "cell_type": "code",
   "execution_count": 7,
   "metadata": {},
   "outputs": [],
   "source": [
    "dic = { \"INDEMNITY_PAID_TO_DATE_USD_AM\" : 150,\n",
    "         \"EXPENSE_PAID_TO_DATE_USD\" : 38388,\n",
    "         \"TYPE_NM\" : \"BI Bodily Injury and First Party Bodily Injury\", \n",
    "         \"FATAL_INJURY_IN\" : \"N\",\n",
    "         \"HAS_INJURY_DETAILS\" : \"false\",\n",
    "         \"CLAIM_TYPE\" : \"Auto Liability\",\n",
    "         \"LOSS_DT\" : \"2014-02-19\",\n",
    "         \"BUSINESS_CREATE_TS\" : \"2014-04-09 15:30:46\",\n",
    "         \"POLICY_EFF_DT\" : \"2013-04-01\",\n",
    "         \"POLICY_EXP_DT\" : \"2014-04-01\",\n",
    "         \"LOSS_PROVINCE\" : \"Florida\",\n",
    "         \"CLAIM_COUNT\" : 0,\n",
    "         \"ADDITIONAL_INJURY_DS\" : \"gk\" }"
   ]
  },
  {
   "cell_type": "code",
   "execution_count": 18,
   "metadata": {},
   "outputs": [],
   "source": [
    "import pandas as pd\n",
    "def makecsv(dic,name):\n",
    "    li =[]\n",
    "    for i in dic.keys():\n",
    "        li.append([i,dic[i]])\n",
    "    data = pd.DataFrame(li,columns = ['name','value'] )\n",
    "    data.to_csv('inps.csv',index=False)\n",
    "    return "
   ]
  },
  {
   "cell_type": "code",
   "execution_count": 11,
   "metadata": {},
   "outputs": [],
   "source": [
    "li =[]\n",
    "for i in dic.keys():\n",
    "    li.append([i,dic[i]])"
   ]
  },
  {
   "cell_type": "code",
   "execution_count": 13,
   "metadata": {},
   "outputs": [],
   "source": [
    "data = pd.DataFrame(li,columns = ['name','value'] )"
   ]
  },
  {
   "cell_type": "code",
   "execution_count": 17,
   "metadata": {},
   "outputs": [],
   "source": [
    "data.to_csv('inps.csv',index=False)"
   ]
  },
  {
   "cell_type": "code",
   "execution_count": null,
   "metadata": {},
   "outputs": [],
   "source": []
  }
 ],
 "metadata": {
  "kernelspec": {
   "display_name": "Python 3",
   "language": "python",
   "name": "python3"
  },
  "language_info": {
   "codemirror_mode": {
    "name": "ipython",
    "version": 3
   },
   "file_extension": ".py",
   "mimetype": "text/x-python",
   "name": "python",
   "nbconvert_exporter": "python",
   "pygments_lexer": "ipython3",
   "version": "3.6.6"
  }
 },
 "nbformat": 4,
 "nbformat_minor": 2
}
